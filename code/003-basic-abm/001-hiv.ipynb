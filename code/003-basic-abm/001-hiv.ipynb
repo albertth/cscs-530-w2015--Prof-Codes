{
 "cells": [
  {
   "cell_type": "markdown",
   "metadata": {},
   "source": [
    "## CSCS530 Winter 2015\n",
    "#### Complex Systems 530 - Computer Modeling of Complex Systems (Winter 2015)\n",
    "\n",
    "  * Course ID: CMPLXSYS 530\n",
    "  * Course Title: Computer Modeling of Complex Systems\n",
    "  * Term: Winter 2015\n",
    "  * Schedule: Wednesdays and Friday, 1:00-2:30PM ET\n",
    "  * Location: 120 West Hall (http://www.lsa.umich.edu/cscs/research/computerlab)\n",
    "  * Teachers: [Mike Bommarito](linkedin.com/in/bommarito) and [Sarah Cherng](https://www.linkedin.com/pub/sarah-cherng/35/1b7/316)\n",
    "\n",
    "#### [View this repository on NBViewer](http://nbviewer.ipython.org/github/mjbommar/cscs-530-w2015/tree/master/)\n"
   ]
  },
  {
   "cell_type": "code",
   "execution_count": 2,
   "metadata": {
    "collapsed": false
   },
   "outputs": [],
   "source": [
    "%matplotlib inline\n",
    "import copy\n",
    "import itertools\n",
    "\n",
    "import numpy\n",
    "import matplotlib.pyplot as plt\n",
    "import pandas\n",
    "\n",
    "import seaborn; seaborn.set()\n",
    "\n",
    "# Import widget methods\n",
    "from IPython.html.widgets import *"
   ]
  },
  {
   "cell_type": "code",
   "execution_count": 83,
   "metadata": {
    "collapsed": true
   },
   "outputs": [],
   "source": [
    "class classModel():\n",
    "    def __init__(self):\n",
    "        self.gridSize = 10\n",
    "        self.numPeople = 25\n",
    "        self.condoms = False\n",
    "        self.condom_cost = 1.0\n",
    "        self.space = numpy.zeros((self.gridSize, self.gridSize))\n",
    "        self.personList = []\n",
    "        self.window = 1\n",
    "        \n",
    "        self.createPeople()\n",
    "        \n",
    "    def createPeople(self):\n",
    "        for x in xrange(self.numPeople):\n",
    "            # Sample the location\n",
    "            xloc = numpy.random.randint(self.gridSize)\n",
    "            yloc = numpy.random.randint(self.gridSize)\n",
    "            if numpy.random.random() <= 0.1:\n",
    "                infected = True\n",
    "            else:\n",
    "                infected = False\n",
    "            self.personList.append(person(model=self, x=xloc, y=yloc, infected=infected))\n",
    "            while self.space[xloc,yloc] == 1:\n",
    "                xloc = numpy.random.randint(self.gridSize)\n",
    "                yloc = numpy.random.randint(self.gridSize)\n",
    "            self.space[xloc,yloc] = 1 \n",
    "        personLocation = numpy.random.randint(self.numPeople)\n",
    "        self.personList[personLocation].infected = True \n",
    "\n",
    "    def step(self):\n",
    "        for person in self.personList:\n",
    "            if person.infected == True:\n",
    "                # Find neighbors\n",
    "                row = person.locationx\n",
    "                col = person.locationy\n",
    "                neighbor_ps = [ ( x % self.gridSize, y % self.gridSize )\n",
    "                                for x, y in itertools.product(range(row-1, row+1),\n",
    "                                range(col-1, col+1))]\n",
    "                print neighbor_ps\n",
    "                \n",
    "                # Infect neighbors based on whether or not there are condoms in the world"
   ]
  },
  {
   "cell_type": "code",
   "execution_count": 80,
   "metadata": {
    "collapsed": true
   },
   "outputs": [],
   "source": [
    "class person():\n",
    "    def __init__(self, x, y, model, infected=False):\n",
    "        self.model = model\n",
    "        self.infected = infected\n",
    "        self.locationx = x\n",
    "        self.locationy = y\n",
    "        self.max_cost = numpy.random.uniform(0, 2)\n",
    "\n",
    "    def decide_condom(self):\n",
    "        \"\"\"\n",
    "        Decide if we are going to use a condom.\n",
    "        \"\"\"\n",
    "        if self.model.condom_cost <= self.max_cost:\n",
    "            return True\n",
    "        else:\n",
    "            return False\n",
    "        \n",
    "    def __str__(self):\n",
    "        return \"person infected={0} location=({1},{2}) max_cost={3}\".format(self.infected,\n",
    "                                                               self.locationx,\n",
    "                                                               self.locationy,\n",
    "                                                                self.max_cost)"
   ]
  },
  {
   "cell_type": "code",
   "execution_count": 82,
   "metadata": {
    "collapsed": false
   },
   "outputs": [
    {
     "name": "stdout",
     "output_type": "stream",
     "text": [
      "person infected=False location=(3,9) max_cost=1.59617997894\n",
      "person infected=False location=(3,9) max_cost=1.23237419864\n",
      "person infected=False location=(6,0) max_cost=0.742591773714\n",
      "person infected=False location=(1,4) max_cost=0.678992979843\n",
      "person infected=False location=(0,2) max_cost=1.48346906759\n",
      "person infected=False location=(7,4) max_cost=0.633695505447\n",
      "person infected=False location=(6,2) max_cost=0.208779928645\n",
      "person infected=False location=(5,8) max_cost=1.69208535558\n",
      "person infected=False location=(8,6) max_cost=0.73851788755\n",
      "person infected=True location=(8,7) max_cost=1.36224857082\n",
      "person infected=False location=(4,0) max_cost=1.80965618349\n",
      "person infected=False location=(7,5) max_cost=0.4657356235\n",
      "person infected=False location=(5,0) max_cost=0.0753490287523\n",
      "person infected=False location=(9,1) max_cost=1.24260899239\n",
      "person infected=False location=(0,9) max_cost=0.412694069381\n",
      "person infected=False location=(6,4) max_cost=0.150074321369\n",
      "person infected=True location=(2,3) max_cost=1.20104900873\n",
      "person infected=False location=(3,5) max_cost=1.04759159714\n",
      "person infected=False location=(2,0) max_cost=1.68131885608\n",
      "person infected=False location=(7,7) max_cost=0.624258284984\n",
      "person infected=True location=(1,6) max_cost=1.71777708793\n",
      "person infected=False location=(5,4) max_cost=0.36867179405\n",
      "person infected=False location=(7,1) max_cost=1.79486503665\n",
      "person infected=False location=(7,1) max_cost=0.991262001755\n",
      "person infected=False location=(0,0) max_cost=0.870991284847\n",
      "[(7, 6), (7, 7), (8, 6), (8, 7)]\n",
      "[(1, 2), (1, 3), (2, 2), (2, 3)]\n",
      "[(0, 5), (0, 6), (1, 5), (1, 6)]\n"
     ]
    }
   ],
   "source": [
    "model = classModel() # create a model instance\n",
    "for x in model.personList:\n",
    "    print(x)\n",
    "model.step() # step through the model"
   ]
  },
  {
   "cell_type": "code",
   "execution_count": 59,
   "metadata": {
    "collapsed": false
   },
   "outputs": [
    {
     "data": {
      "text/plain": [
       "1.0"
      ]
     },
     "execution_count": 59,
     "metadata": {},
     "output_type": "execute_result"
    }
   ],
   "source": [
    "model.condom_cost"
   ]
  },
  {
   "cell_type": "code",
   "execution_count": 42,
   "metadata": {
    "collapsed": false
   },
   "outputs": [
    {
     "name": "stdout",
     "output_type": "stream",
     "text": [
      "<__main__.classModel instance at 0x00000000175FEAC8>\n"
     ]
    }
   ],
   "source": [
    "print(model.personList[0].model)"
   ]
  },
  {
   "cell_type": "code",
   "execution_count": 88,
   "metadata": {
    "collapsed": false
   },
   "outputs": [],
   "source": [
    "person_a = person(model, infected=True, y=0, x=1)\n",
    "person_a.infected = True"
   ]
  },
  {
   "cell_type": "code",
   "execution_count": 67,
   "metadata": {
    "collapsed": false
   },
   "outputs": [
    {
     "name": "stdout",
     "output_type": "stream",
     "text": [
      "person infected=True location=(5,6) max_cost=0.75\n",
      "person infected=False location=(8,5) max_cost=1.64553354951\n"
     ]
    }
   ],
   "source": [
    "person_a.max_cost = 0.75\n",
    "print(person_a)\n",
    "print(person_b)"
   ]
  },
  {
   "cell_type": "code",
   "execution_count": 68,
   "metadata": {
    "collapsed": false
   },
   "outputs": [
    {
     "data": {
      "text/plain": [
       "False"
      ]
     },
     "execution_count": 68,
     "metadata": {},
     "output_type": "execute_result"
    }
   ],
   "source": [
    "person_a.decide_condom()"
   ]
  }
 ],
 "metadata": {
  "kernelspec": {
   "display_name": "IPython (Python 2)",
   "name": "python2"
  },
  "language_info": {
   "codemirror_mode": {
    "name": "ipython",
    "version": 2
   },
   "file_extension": ".py",
   "mimetype": "text/x-python",
   "name": "python",
   "nbconvert_exporter": "python",
   "pygments_lexer": "ipython2",
   "version": "2.7.3"
  }
 },
 "nbformat": 4,
 "nbformat_minor": 0
}