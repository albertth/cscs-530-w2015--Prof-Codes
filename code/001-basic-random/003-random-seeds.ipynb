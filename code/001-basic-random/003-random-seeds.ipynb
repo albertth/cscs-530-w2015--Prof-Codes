{
 "cells": [
  {
   "cell_type": "markdown",
   "metadata": {},
   "source": [
    "## CSCS530 Winter 2015\n",
    "#### Complex Systems 530 - Computer Modeling of Complex Systems (Winter 2015)\n",
    "\n",
    "  * Course ID: CMPLXSYS 530\n",
    "  * Course Title: Computer Modeling of Complex Systems\n",
    "  * Term: Winter 2015\n",
    "  * Schedule: Wednesdays and Friday, 1:00-2:30PM ET\n",
    "  * Location: 120 West Hall (http://www.lsa.umich.edu/cscs/research/computerlab)\n",
    "  * Teachers: [Mike Bommarito](https://www.linkedin.com/in/bommarito) and [Sarah Cherng](https://www.linkedin.com/pub/sarah-cherng/35/1b7/316)\n",
    "\n",
    "#### [View this repository on NBViewer](http://nbviewer.ipython.org/github/mjbommar/cscs-530-w2015/tree/master/)\n"
   ]
  },
  {
   "cell_type": "code",
   "execution_count": 1,
   "metadata": {
    "collapsed": true
   },
   "outputs": [],
   "source": [
    "%matplotlib inline\n",
    "# Imports\n",
    "import numpy\n",
    "import numpy.random\n",
    "import matplotlib.pyplot as plt"
   ]
  },
  {
   "cell_type": "markdown",
   "metadata": {},
   "source": [
    "## Random number generation and seeds\n",
    "\n",
    "#### Basic reading on random number generation:\n",
    "  * [http://en.wikipedia.org/wiki/Random_number_generation](http://en.wikipedia.org/wiki/Random_number_generation)\n",
    "\n",
    "#### On Determinism\n",
    ">    __The second method uses computational algorithms that can produce long sequences of apparently random results, which are in fact completely determined by a shorter initial value, known as a seed or key__. The latter type are often called pseudorandom number generators. These types of generators do not typically rely on sources of naturally occurring entropy, though they may be periodically seeded by natural sources, they are non-blocking i.e. not rate-limited by an external event.\n",
    "> \n",
    ">    A \"random number generator\" based solely on deterministic computation cannot be regarded as a \"true\" random number generator in the purest sense of the word, since their output is inherently predictable if all seed values are known. In practice however they are sufficient for most tasks. Carefully designed and implemented pseudo-random number generators can even be certified for security-critical cryptographic purposes, as is the case with the yarrow algorithm and fortuna (PRNG). (The former being the basis of the /dev/random source of entropy on FreeBSD, AIX, Mac OS X, NetBSD and others. OpenBSD also uses a pseudo-random number algorithm based on ChaCha20 known as arc4random.[5])\n",
    "\n",
    "\n",
    "#### On distributions\n",
    "\n",
    "> Random numbers uniformly distributed between 0 and 1 can be used to generate random numbers of any desired distribution by passing them through the inverse cumulative distribution function (CDF) of the desired distribution. Inverse CDFs are also called quantile functions. To generate a pair of statistically independent standard normally distributed random numbers (x, y), one may first generate the polar coordinates (r, θ), where r~χ22 and θ~UNIFORM(0,2π) (see Box–Muller transform)."
   ]
  },
  {
   "cell_type": "markdown",
   "metadata": {},
   "source": [
    "## Without a seeded RNG"
   ]
  },
  {
   "cell_type": "code",
   "execution_count": 21,
   "metadata": {
    "collapsed": false
   },
   "outputs": [
    {
     "name": "stdout",
     "output_type": "stream",
     "text": [
      "Draw 0\n",
      "[ 0.27913612  0.88304944  0.90650699  0.90959833  0.6378356   0.16630971\n",
      "  0.90582092  0.42943375  0.42724209  0.37184667]\n",
      "0.591677961493\n",
      "================\n",
      "\n",
      "Draw 1\n",
      "[ 0.60828926  0.68482624  0.88001386  0.84444655  0.66739229  0.53894798\n",
      "  0.84514952  0.48747753  0.04339293  0.54421089]\n",
      "0.61441470532\n",
      "================\n",
      "\n",
      "Draw 2\n",
      "[ 0.12898055  0.37412006  0.88815831  0.55001458  0.2399099   0.6827149\n",
      "  0.16719905  0.76470928  0.25233562  0.42583843]\n",
      "0.447398068686\n",
      "================\n",
      "\n"
     ]
    }
   ],
   "source": [
    "# Let's make a random draw without seeding/controlling our RNG\n",
    "for n in range(3):\n",
    "    print(\"Draw {0}\".format(n))\n",
    "    X = numpy.random.uniform(size=10)\n",
    "    print(X)\n",
    "    print(X.mean())\n",
    "    print(\"=\" * 16 + \"\\n\")"
   ]
  },
  {
   "cell_type": "markdown",
   "metadata": {},
   "source": [
    "## With a seeded RNG"
   ]
  },
  {
   "cell_type": "code",
   "execution_count": 22,
   "metadata": {
    "collapsed": false
   },
   "outputs": [
    {
     "name": "stdout",
     "output_type": "stream",
     "text": [
      "Draw 0\n",
      "[ 0.5488135   0.71518937  0.60276338  0.54488318  0.4236548   0.64589411\n",
      "  0.43758721  0.891773    0.96366276  0.38344152]\n",
      "0.615766283315\n",
      "================\n",
      "\n",
      "Draw 1\n",
      "[ 0.5488135   0.71518937  0.60276338  0.54488318  0.4236548   0.64589411\n",
      "  0.43758721  0.891773    0.96366276  0.38344152]\n",
      "0.615766283315\n",
      "================\n",
      "\n",
      "Draw 2\n",
      "[ 0.5488135   0.71518937  0.60276338  0.54488318  0.4236548   0.64589411\n",
      "  0.43758721  0.891773    0.96366276  0.38344152]\n",
      "0.615766283315\n",
      "================\n",
      "\n"
     ]
    }
   ],
   "source": [
    "# Now let's try again with a fixed seed\n",
    "seed = 0\n",
    "\n",
    "# Let's make a random draw without seeding/controlling our RNG\n",
    "for n in range(3):\n",
    "    print(\"Draw {0}\".format(n))\n",
    "    rs = numpy.random.RandomState(seed)\n",
    "    Y = rs.uniform(size=10)\n",
    "    print(Y)\n",
    "    print(Y.mean())\n",
    "    print(\"=\" * 16 + \"\\n\")\n"
   ]
  }
 ],
 "metadata": {
  "kernelspec": {
   "display_name": "IPython (Python 2)",
   "name": "python2"
  },
  "language_info": {
   "codemirror_mode": {
    "name": "ipython",
    "version": 2
   },
   "file_extension": ".py",
   "mimetype": "text/x-python",
   "name": "python",
   "nbconvert_exporter": "python",
   "pygments_lexer": "ipython2",
   "version": "2.7.3"
  },
  "signature": "sha256:80c7e3609db916ea4ae1eb21110bbba91ac2758875c00b2eb1194b2f32e0e4cf"
 },
 "nbformat": 4,
 "nbformat_minor": 0
}