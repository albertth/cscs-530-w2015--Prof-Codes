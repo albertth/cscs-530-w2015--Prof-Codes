{
 "metadata": {
  "name": "",
  "signature": "sha256:4efd11a46f14d9753ef7aaa7948b3471a9cfdd2ce0378d6152e12697f23a1058"
 },
 "nbformat": 3,
 "nbformat_minor": 0,
 "worksheets": [
  {
   "cells": [
    {
     "cell_type": "markdown",
     "metadata": {},
     "source": [
      "# Basics with Grids\n",
      "\n",
      " In this notebook, we'll explore some basics in the construction of grids."
     ]
    },
    {
     "cell_type": "markdown",
     "metadata": {},
     "source": [
      "### Imports\n",
      "\n",
      " The imports below provide us with:\n",
      "  * numpy: numerical python utilities, including multi-dimensional arrays/matrices\n",
      "  * matplotlib.pyplot: plotting library\n",
      "  \n",
      " In addition, the ``%matplotlib nbagg`` line ensures that our plots are visible in ipython."
     ]
    },
    {
     "cell_type": "code",
     "collapsed": false,
     "input": [
      "%matplotlib inline\n",
      "# Imports\n",
      "import numpy\n",
      "import matplotlib.pyplot as plt\n",
      "\n",
      "import seaborn; seaborn.set()"
     ],
     "language": "python",
     "metadata": {},
     "outputs": [],
     "prompt_number": 1
    },
    {
     "cell_type": "markdown",
     "metadata": {},
     "source": [
      "### Basics of plotting\n",
      "\n",
      " In the example below, we create a square grid that is ``grid_size x grid_size``.  Then, we randomly activate cells in the space."
     ]
    },
    {
     "cell_type": "code",
     "collapsed": false,
     "input": [
      "# Set the grid and agent parameters\n",
      "grid_size = 25\n",
      "num_agents = 10\n",
      "\n",
      "# Create the space and activate random cells\n",
      "space = numpy.zeros((grid_size, grid_size))\n",
      "\n",
      "# Now sample the agents.\n",
      "for agent_id in range(num_agents):\n",
      "    # Sample random position\n",
      "    row = numpy.random.randint(0, grid_size)\n",
      "    col = numpy.random.randint(0, grid_size)\n",
      "    \n",
      "    # \"Activate\" the cell by setting its value to 1.\n",
      "    space[row, col] = 1\n",
      "    \n",
      "    # Output some info about the agent.\n",
      "    print(\"Creating agent {0} at ({1}, {2}).\".format(agent_id,\n",
      "                                                     row,\n",
      "                                                     col))\n",
      "\n",
      "# Now show the space\n",
      "plt.figure()\n",
      "plt.pcolor(space, snap=True)\n",
      "plt.colorbar()"
     ],
     "language": "python",
     "metadata": {},
     "outputs": [
      {
       "output_type": "stream",
       "stream": "stdout",
       "text": [
        "Creating agent 0 at (23, 14).\n",
        "Creating agent 1 at (7, 8).\n",
        "Creating agent 2 at (13, 23).\n",
        "Creating agent 3 at (13, 1).\n",
        "Creating agent 4 at (11, 7).\n",
        "Creating agent 5 at (9, 16).\n",
        "Creating agent 6 at (5, 2).\n",
        "Creating agent 7 at (10, 22).\n",
        "Creating agent 8 at (11, 17).\n",
        "Creating agent 9 at (1, 11).\n"
       ]
      },
      {
       "metadata": {},
       "output_type": "pyout",
       "prompt_number": 27,
       "text": [
        "<matplotlib.colorbar.Colorbar instance at 0x5684bd8>"
       ]
      },
      {
       "metadata": {},
       "output_type": "display_data",
       "png": "[encoded data removed]",
       "text": [
        "<matplotlib.figure.Figure at 0x63c3410>"
       ]
      }
     ],
     "prompt_number": 27
    },
    {
     "cell_type": "markdown",
     "metadata": {},
     "source": [
      "## What have we done?\n",
      "\n",
      "  You should now see a small grid with blank background and a number of activated cells.\n",
      "  \n",
      "### Questions\n",
      "\n",
      " 1. Are we guaranteed to always have ``num_agents`` activated cells?  Why or why not?\n",
      " 2. How can the spatial distribution be characterized?"
     ]
    },
    {
     "cell_type": "markdown",
     "metadata": {},
     "source": [
      "## Slightly more complicated example\n",
      "\n",
      "  Let's try a slightly more complicated example:\n",
      "  \n",
      "  * Choose another spatial distribution.\n",
      "  * Represent the number of agents in a cell visually"
     ]
    },
    {
     "cell_type": "code",
     "collapsed": false,
     "input": [
      "# Set the grid and agent parameters\n",
      "grid_size = 25\n",
      "num_agents = 10\n",
      "spread = 1\n",
      "\n",
      "# Create the space and activate random cells\n",
      "space = numpy.zeros((grid_size, grid_size))\n",
      "\n",
      "# Now sample the agents.\n",
      "for agent_id in range(num_agents):\n",
      "    # Sample random position\n",
      "    row = int(numpy.random.normal((grid_size) / 2.0, spread))\n",
      "    col = int(numpy.random.normal((grid_size) / 2.0, spread))\n",
      "\n",
      "    # \"Activate\" the cell by setting its value to 1.\n",
      "    space[row, col] += 1\n",
      "    \n",
      "    # Output some info about the agent.\n",
      "    print(\"Creating agent {0} at ({1}, {2}).\".format(agent_id,\n",
      "                                                     row,\n",
      "                                                     col))\n",
      "\n",
      "# Now show the space\n",
      "f = plt.figure()\n",
      "plt.pcolor(space, snap=True)\n",
      "plt.colorbar()"
     ],
     "language": "python",
     "metadata": {},
     "outputs": [
      {
       "output_type": "stream",
       "stream": "stdout",
       "text": [
        "Creating agent 0 at (12, 12).\n",
        "Creating agent 1 at (10, 12).\n",
        "Creating agent 2 at (10, 12).\n",
        "Creating agent 3 at (11, 11).\n",
        "Creating agent 4 at (10, 14).\n",
        "Creating agent 5 at (14, 12).\n",
        "Creating agent 6 at (11, 13).\n",
        "Creating agent 7 at (13, 14).\n",
        "Creating agent 8 at (13, 12).\n",
        "Creating agent 9 at (11, 12).\n"
       ]
      },
      {
       "metadata": {},
       "output_type": "pyout",
       "prompt_number": 32,
       "text": [
        "<matplotlib.colorbar.Colorbar instance at 0x7f324e1a6488>"
       ]
      },
      {
       "metadata": {},
       "output_type": "display_data",
       "png": "[encoded data removed]",
       "text": [
        "<matplotlib.figure.Figure at 0x7f324dd95790>"
       ]
      }
     ],
     "prompt_number": 32
    },
    {
     "cell_type": "markdown",
     "metadata": {},
     "source": [
      "## Interactive plotting\n",
      "\n",
      "  Lastly, let's create an example interactive widget that helps us understand how the spread parameter affects\n",
      "   the grid's initial conditions."
     ]
    },
    {
     "cell_type": "code",
     "collapsed": false,
     "input": [
      "# First, we'll wrap our experiments above in a method that takes as input our grid parameters.\n",
      "def gaussian_initial_grid(grid_size=25, num_agents=10, spread=1):\n",
      "    \"\"\"\n",
      "    Create an initial 2D grid with Gaussian/normal-distributed agents.\n",
      "    \"\"\"\n",
      "    # Create the space and activate random cells\n",
      "    space = numpy.zeros((grid_size, grid_size))\n",
      "\n",
      "    # Now sample the agents.\n",
      "    for agent_id in range(num_agents):\n",
      "        # Sample random position\n",
      "        row = int(numpy.random.normal((grid_size) / 2.0, spread))\n",
      "        col = int(numpy.random.normal((grid_size) / 2.0, spread))\n",
      "\n",
      "        # \"Activate\" the cell by setting its value to 1.\n",
      "        space[row, col] += 1\n",
      "\n",
      "    # Now show the space\n",
      "    f = plt.figure()\n",
      "    plt.pcolor(space, snap=True)\n",
      "    plt.colorbar()\n"
     ],
     "language": "python",
     "metadata": {},
     "outputs": [],
     "prompt_number": 51
    },
    {
     "cell_type": "code",
     "collapsed": false,
     "input": [
      "# Import widget methods\n",
      "from IPython.html.widgets import interact, fixed\n",
      "\n",
      "interact(gaussian_initial_grid, grid_size=(5, 100),\n",
      "         num_agents = (1, 500),\n",
      "         spread=(0, 100))"
     ],
     "language": "python",
     "metadata": {},
     "outputs": [
      {
       "metadata": {},
       "output_type": "pyout",
       "prompt_number": 53,
       "text": [
        "<function __main__.gaussian_initial_grid>"
       ]
      },
      {
       "metadata": {},
       "output_type": "display_data",
       "png": "[encoded data removed]",
       "text": [
        "<matplotlib.figure.Figure at 0x7f324e30ad10>"
       ]
      }
     ],
     "prompt_number": 53
    },
    {
     "cell_type": "markdown",
     "metadata": {},
     "source": [
      "## Boundaries\n",
      "\n",
      "  Try increasing the spread parameter and see what happens.  You should notice an exception when the index exceeds the grid size.\n",
      "    \n",
      "   Let's handle this exception by \"wrapping\" cells around.  We can use the __modulo__ operator for this."
     ]
    },
    {
     "cell_type": "code",
     "collapsed": false,
     "input": [
      "# First, we'll wrap our experiments above in a method that takes as input our grid parameters.\n",
      "def gaussian_initial_grid(grid_size=25, num_agents=10, spread=1):\n",
      "    \"\"\"\n",
      "    Create an initial 2D grid with Gaussian/normal-distributed agents.\n",
      "    \"\"\"\n",
      "    # Create the space and activate random cells\n",
      "    space = numpy.zeros((grid_size, grid_size))\n",
      "\n",
      "    # Now sample the agents.\n",
      "    for agent_id in range(num_agents):\n",
      "        # Sample random position\n",
      "        row = int(numpy.random.normal((grid_size) / 2.0, spread)) % grid_size\n",
      "        col = int(numpy.random.normal((grid_size) / 2.0, spread)) % grid_size\n",
      "\n",
      "        # \"Activate\" the cell by setting its value to 1.\n",
      "        space[row, col] += 1\n",
      "\n",
      "    # Now show the space\n",
      "    f = plt.figure()\n",
      "    plt.pcolor(space, snap=True)\n",
      "    plt.colorbar()\n"
     ],
     "language": "python",
     "metadata": {},
     "outputs": [],
     "prompt_number": 54
    },
    {
     "cell_type": "code",
     "collapsed": false,
     "input": [
      "# Import widget methods\n",
      "from IPython.html.widgets import interact, fixed\n",
      "\n",
      "interact(gaussian_initial_grid, grid_size=(5, 100),\n",
      "         num_agents = (1, 500),\n",
      "         spread=(0, 100))"
     ],
     "language": "python",
     "metadata": {},
     "outputs": [
      {
       "metadata": {},
       "output_type": "display_data",
       "png": "[encoded data removed]",
       "text": [
        "<matplotlib.figure.Figure at 0x7f324fb0e550>"
       ]
      }
     ],
     "prompt_number": 55
    }
   ],
   "metadata": {}
  }
 ]
}