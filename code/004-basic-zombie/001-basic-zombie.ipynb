{
 "cells": [
  {
   "cell_type": "code",
   "execution_count": null,
   "metadata": {
    "collapsed": true
   },
   "outputs": [],
   "source": []
  },
  {
   "cell_type": "markdown",
   "metadata": {},
   "source": [
    "## Space Classes\n",
    "### Physical Grid\n",
    "### Information Diffusion Network"
   ]
  },
  {
   "cell_type": "code",
   "execution_count": 5,
   "metadata": {
    "collapsed": true
   },
   "outputs": [],
   "source": [
    "class Grid2D(object):\n",
    "    \"\"\"\n",
    "    2-D grid class.\n",
    "    \"\"\"\n",
    "    pass\n",
    "\n",
    "class InformationNetwork(object):\n",
    "    \"\"\"\n",
    "    Information diffusion network.\n",
    "    \"\"\"\n",
    "    pass"
   ]
  },
  {
   "cell_type": "markdown",
   "metadata": {},
   "source": [
    "## Model Class"
   ]
  },
  {
   "cell_type": "code",
   "execution_count": 41,
   "metadata": {
    "collapsed": true
   },
   "outputs": [],
   "source": [
    "class Model(object):\n",
    "    \"\"\"\n",
    "    Model class.\n",
    "    \"\"\"\n",
    "    \n",
    "    def __init__(self, population_size=100,\n",
    "                 initial_zombies=1,\n",
    "                 grid_size=20,\n",
    "                 information_network_type=\"default\",\n",
    "                 infection_rate=0.1,\n",
    "                 defend_probability=0.1,\n",
    "                 human_speed=1,\n",
    "                 zombie_speed=1,\n",
    "                 pheromone_deposit_rate=0.1,\n",
    "                 pheromone_dissipation_rate=0.1\n",
    "                ):\n",
    "        \"\"\"\n",
    "        Constructor.\n",
    "        \"\"\"\n",
    "        \n",
    "        # Top level model parameters\n",
    "        self.population_size = population_size\n",
    "        self.initial_zombies = initial_zombies\n",
    "        self.grid_size = grid_size\n",
    "        self.information_network_type = information_network_type\n",
    "        self.defend_probability = defend_probability\n",
    "        self.human_speed = human_speed\n",
    "        self.zombie_speed = zombie_speed\n",
    "        self.pheromone_deposit_rate = pheromone_deposit_rate\n",
    "        self.pheromone_dissipation_rate = pheromone_dissipation_rate\n",
    "        \n",
    "        # Storage\n",
    "        self.agent_list = []\n",
    "        \n",
    "        # Call setup methods\n",
    "        self.create_agents()\n",
    "    \n",
    "    def create_agents(self):\n",
    "        \"\"\"\n",
    "        Create the agents for the model.\n",
    "        \"\"\"\n",
    "        # Create humans\n",
    "        for agent_id in range(self.population_size):\n",
    "            self.agent_list.append(Human(self, agent_id,\n",
    "                                        self.human_speed,\n",
    "                                        self.defend_probability))\n",
    "        \n",
    "        # Create zombies\n",
    "        for zombie_id in range(self.initial_zombies):\n",
    "            # Get agent ID\n",
    "            agent_id = self.population_size + zombie_id\n",
    "            self.agent_list.append(Zombie(self, agent_id,\n",
    "                                        self.zombie_speed,\n",
    "                                        self.defend_probability))\n",
    "            \n"
   ]
  },
  {
   "cell_type": "code",
   "execution_count": 43,
   "metadata": {
    "collapsed": false
   },
   "outputs": [
    {
     "name": "stdout",
     "output_type": "stream",
     "text": [
      "(0, 0)\n",
      "(1, 1)\n",
      "(2, 2)\n",
      "(3, 3)\n",
      "(4, 4)\n",
      "(5, 5)\n",
      "(6, 6)\n",
      "(7, 7)\n",
      "(8, 8)\n",
      "(9, 9)\n",
      "(10, 10)\n",
      "(11, 11)\n"
     ]
    }
   ],
   "source": [
    "for i in range(len(m.agent_list)):\n",
    "    print((i, m.agent_list[i].agent_id))"
   ]
  },
  {
   "cell_type": "code",
   "execution_count": 44,
   "metadata": {
    "collapsed": false
   },
   "outputs": [
    {
     "name": "stdout",
     "output_type": "stream",
     "text": [
      "[<__main__.Human object at 0x3888610>, <__main__.Human object at 0x3888450>, <__main__.Human object at 0x3888350>, <__main__.Human object at 0x3888750>, <__main__.Human object at 0x3888790>, <__main__.Human object at 0x38887d0>, <__main__.Human object at 0x3888a10>, <__main__.Human object at 0x3888850>, <__main__.Human object at 0x38888d0>, <__main__.Human object at 0x3888910>, <__main__.Zombie object at 0x3888a90>, <__main__.Zombie object at 0x3888990>]\n"
     ]
    }
   ],
   "source": [
    "m = Model(population_size=10, initial_zombies=2)\n",
    "print(m.agent_list)"
   ]
  },
  {
   "cell_type": "markdown",
   "metadata": {},
   "source": [
    "## Human\n",
    "\n",
    "Qualitatively, humans can:\n",
    "  * run away\n",
    "  * share information\n",
    "  * if attacked, defend themselves\n",
    "  * if attacked and not successful in defending, converted\n",
    "  * if attacked but adjacent to other people, better chance\n",
    "  \n",
    "\n",
    "## Zombies\n",
    "\n",
    "Qualitatively, zombies can:\n",
    "  * if adjacent to a human, attack to convert\n",
    "  * potential movement strategies\n",
    "        * totally random\n",
    "        * human-pheremone driven\n",
    "  * slow down if too hungry\n",
    "  \n"
   ]
  },
  {
   "cell_type": "code",
   "execution_count": 18,
   "metadata": {
    "collapsed": true
   },
   "outputs": [],
   "source": [
    "class Human(object):\n",
    "    \"\"\"\n",
    "    Human class.\n",
    "    \"\"\"\n",
    "    \n",
    "    def __init__(self, model, agent_id,\n",
    "                human_speed, defend_probability):\n",
    "\n",
    "        # Set agent parameters\n",
    "        self.model = model\n",
    "        self.agent_id = agent_id\n",
    "        self.human_speed = human_speed\n",
    "        self.defend_probability = defend_probability\n",
    "\n",
    "class Zombie(object):\n",
    "    \"\"\"\n",
    "    Zombie class.\n",
    "    \"\"\"\n",
    "    def __init__(self, model, agent_id,\n",
    "                zombie_speed, defend_probability):\n",
    "        # Set agent parameters\n",
    "        self.model = model\n",
    "        self.agent_id = agent_id\n",
    "        self.zombie_speed = zombie_speed\n",
    "        self.defend_probability = defend_probability"
   ]
  },
  {
   "cell_type": "markdown",
   "metadata": {},
   "source": [
    "### Pheromone Model\n",
    " \n",
    "  * Humans can deposit pheromones\n",
    "  * Rate at which they deposit may be varied\n",
    "  * Pheromones will dissipate at some rate\n",
    "  \n"
   ]
  }
 ],
 "metadata": {
  "kernelspec": {
   "display_name": "IPython (Python 2)",
   "name": "python2"
  },
  "language_info": {
   "codemirror_mode": {
    "name": "ipython",
    "version": 2
   },
   "file_extension": ".py",
   "mimetype": "text/x-python",
   "name": "python",
   "nbconvert_exporter": "python",
   "pygments_lexer": "ipython2",
   "version": "2.7.3"
  },
  "signature": "sha256:66602a1afa03a21fb1249fbda1f5eb85f3b1352f34fe6404da5bf42a0aafdeb1"
 },
 "nbformat": 4,
 "nbformat_minor": 0
}