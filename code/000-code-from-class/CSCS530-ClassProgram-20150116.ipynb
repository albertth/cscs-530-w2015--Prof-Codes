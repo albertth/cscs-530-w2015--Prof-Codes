{
 "metadata": {
  "name": "",
  "signature": "sha256:abb1a7a61beb5b9e8b119e0df686f4356394b70b54d8487cc28bbdca3cd0b99c"
 },
 "nbformat": 3,
 "nbformat_minor": 0,
 "worksheets": [
  {
   "cells": [
    {
     "cell_type": "code",
     "collapsed": false,
     "input": [
      "# This is a python notebook for CSCS530 class"
     ],
     "language": "python",
     "metadata": {},
     "outputs": []
    },
    {
     "cell_type": "code",
     "collapsed": false,
     "input": [
      "#Class Program on 2015-01-16\n",
      "import numpy\n",
      "import matplotlib.pyplot as plt\n",
      "\n",
      "initialNumPeople = 10 #inital number of people\n",
      "barCapacity = 80\n",
      "maxExitRatePerTimeStep = 5\n",
      "minExitRatePerTimeStep = 0\n",
      "maxTimeStep = 100\n",
      "currentTime = 0\n",
      "peopleList = []\n",
      "\n",
      "\n",
      "#Our goal is to measure how many people are in the bar across timesteps\n",
      "\n",
      "#create model that counts/changes number of people in the bar\n",
      "#condition to stop when we reach max timestep\n",
      "#Can simulate random number of people entering bar at some probability that changes over time\n",
      "#based on amount over/under capacity, change probability of going to bar the next timestep\n",
      "\n",
      "while currentTime < maxTimeStep:\n",
      "    if initialNumPeople >= barCapacity:\n",
      "        enteringPeeps = 0 #no one enters the bar if it is at full capacity\n",
      "    else:\n",
      "        enteringPeeps = int(numpy.random.normal(5,1))\n",
      "    exitingPeeps = int(numpy.random.uniform(minExitRatePerTimeStep, maxExitRatePerTimeStep))\n",
      "    if exitingPeeps > initialNumPeople+enteringPeeps:\n",
      "        exitingPeeps = 0\n",
      "    initialNumPeople = initialNumPeople + enteringPeeps - exitingPeeps        \n",
      "    peopleList.append(initialNumPeople)\n",
      "    currentTime +=1\n",
      "    \n",
      "%matplotlib inline\n",
      "\n",
      "f = plt.figure()\n",
      "plt.plot(peopleList)\n",
      "plt.xlabel('TimeStep')\n",
      "plt.ylabel('Number of People in the Bar')\n",
      "plt.title('Rockstar CSCS530 1st Program Yay')\n"
     ],
     "language": "python",
     "metadata": {},
     "outputs": [
      {
       "metadata": {},
       "output_type": "pyout",
       "prompt_number": 6,
       "text": [
        "<matplotlib.text.Text at 0x1046b42d0>"
       ]
      },
      {
       "metadata": {},
       "output_type": "display_data",
       "png": "[encoded data removed]",
       "text": [
        "<matplotlib.figure.Figure at 0x1039614d0>"
       ]
      }
     ],
     "prompt_number": 6
    },
    {
     "cell_type": "code",
     "collapsed": false,
     "input": [
      "for x in xrange(0,10):\n",
      "    print x"
     ],
     "language": "python",
     "metadata": {},
     "outputs": []
    }
   ],
   "metadata": {}
  }
 ]
}