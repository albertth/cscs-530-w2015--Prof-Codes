{
 "cells": [
  {
   "cell_type": "markdown",
   "metadata": {},
   "source": [
    "## CSCS530 Winter 2015\n",
    "#### Complex Systems 530 - Computer Modeling of Complex Systems (Winter 2015)\n",
    "\n",
    "  * Course ID: CMPLXSYS 530\n",
    "  * Course Title: Computer Modeling of Complex Systems\n",
    "  * Term: Winter 2015\n",
    "  * Schedule: Wednesdays and Friday, 1:00-2:30PM ET\n",
    "  * Location: 120 West Hall (http://www.lsa.umich.edu/cscs/research/computerlab)\n",
    "  * Teachers: [Mike Bommarito](https://www.linkedin.com/in/bommarito) and [Sarah Cherng](https://www.linkedin.com/pub/sarah-cherng/35/1b7/316)\n",
    "\n",
    "#### [View this repository on NBViewer](http://nbviewer.ipython.org/github/mjbommar/cscs-530-w2015/tree/master/)\n"
   ]
  },
  {
   "cell_type": "code",
   "execution_count": 11,
   "metadata": {
    "collapsed": false
   },
   "outputs": [
    {
     "name": "stdout",
     "output_type": "stream",
     "text": [
      "[(9, 9), (9, 0), (0, 9), (0, 0)]\n"
     ]
    }
   ],
   "source": [
    "%matplotlib inline\n",
    "import copy\n",
    "import itertools\n",
    "\n",
    "import numpy\n",
    "import matplotlib.pyplot as plt\n",
    "import pandas\n",
    "\n",
    "import seaborn; seaborn.set()\n",
    "\n",
    "# Import widget methods\n",
    "from IPython.html.widgets import *\n",
    "\n",
    "\n",
    "class classModel():\n",
    "    def __init__(self):\n",
    "        self.gridSize = 10\n",
    "        self.numPeople = 25\n",
    "        self.condoms = False\n",
    "        self.space = numpy.zeros((self.gridSize, self.gridSize))\n",
    "        self.personList = []\n",
    "        self.window = 1\n",
    "        \n",
    "    def createPeople(self):\n",
    "        for x in xrange(self.numPeople):\n",
    "            self.personList.append(person())\n",
    "            xloc = numpy.random.randint(self.gridSize)\n",
    "            yloc = numpy.random.randint(self.gridSize)\n",
    "            while self.space[xloc,yloc] == 1:\n",
    "                xloc = numpy.random.randint(self.gridSize)\n",
    "                yloc = numpy.random.randint(self.gridSize)\n",
    "            person.locationx=xloc\n",
    "            person.locationy=yloc\n",
    "            self.space[xloc,yloc] = 1 \n",
    "        personLocation = numpy.random.randint(self.numPeople)\n",
    "        self.personList[personLocation].infected = True \n",
    "\n",
    "    def step(self):\n",
    "        for person in self.personList:\n",
    "            if person.infected == True:\n",
    "                # Find neighbors\n",
    "                row = person.locationx\n",
    "                col = person.locationy\n",
    "                neighbor_ps = [ ( x % self.gridSize, y % self.gridSize )\n",
    "                                for x, y in itertools.product(range(row-1, row+1),\n",
    "                                range(col-1, col+1))]\n",
    "                print neighbor_ps\n",
    "                \n",
    "                # Infect neighbors based on whether or not there are condoms in the world\n",
    "                \n",
    "class person():\n",
    "    def __init__(self):\n",
    "        self.infected = False\n",
    "        self.locationx = 0\n",
    "        self.locationy = 0 \n",
    "\n",
    "\n",
    "model = classModel() # create a model instance\n",
    "model.createPeople() # create people for the model\n",
    "model.step() # step through the model\n",
    "\n"
   ]
  },
  {
   "cell_type": "code",
   "execution_count": 7,
   "metadata": {
    "collapsed": false
   },
   "outputs": [],
   "source": []
  },
  {
   "cell_type": "code",
   "execution_count": 7,
   "metadata": {
    "collapsed": false
   },
   "outputs": [],
   "source": []
  },
  {
   "cell_type": "code",
   "execution_count": 7,
   "metadata": {
    "collapsed": false
   },
   "outputs": [],
   "source": []
  },
  {
   "cell_type": "code",
   "execution_count": null,
   "metadata": {
    "collapsed": false
   },
   "outputs": [],
   "source": []
  }
 ],
 "metadata": {
  "kernelspec": {
   "display_name": "IPython (Python 2)",
   "name": "python2"
  },
  "language_info": {
   "codemirror_mode": {
    "name": "ipython",
    "version": 2
   },
   "file_extension": ".py",
   "mimetype": "text/x-python",
   "name": "python",
   "nbconvert_exporter": "python",
   "pygments_lexer": "ipython2",
   "version": "2.7.3"
  },
  "signature": "sha256:694a6affa4c7c4b3a50bf8174d825a71781269549a40bb9a5f6b8fa23baff59d"
 },
 "nbformat": 4,
 "nbformat_minor": 0
}