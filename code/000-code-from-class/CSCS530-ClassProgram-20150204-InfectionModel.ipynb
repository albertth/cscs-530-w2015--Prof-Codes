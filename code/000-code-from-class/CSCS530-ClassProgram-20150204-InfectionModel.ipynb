{
 "metadata": {
  "name": "",
  "signature": "sha256:5d203d0caa823476c4395c3a62bfd45be4c5f7a87f5ea7b44073601cbd15392e"
 },
 "nbformat": 3,
 "nbformat_minor": 0,
 "worksheets": [
  {
   "cells": [
    {
     "cell_type": "code",
     "collapsed": false,
     "input": [
      "%matplotlib inline\n",
      "import copy\n",
      "import itertools\n",
      "\n",
      "import numpy\n",
      "import matplotlib.pyplot as plt\n",
      "import pandas\n",
      "\n",
      "import seaborn; seaborn.set()\n",
      "\n",
      "# Import widget methods\n",
      "from IPython.html.widgets import *\n",
      "\n",
      "\n",
      "class classModel():\n",
      "    def __init__(self):\n",
      "        self.gridSize = 10\n",
      "        self.numPeople = 25\n",
      "        self.condoms = False\n",
      "        self.space = numpy.zeros((self.gridSize, self.gridSize))\n",
      "        self.personList = []\n",
      "        self.window = 1\n",
      "        \n",
      "    def createPeople(self):\n",
      "        for x in xrange(self.numPeople):\n",
      "            self.personList.append(person())\n",
      "            xloc = numpy.random.randint(self.gridSize)\n",
      "            yloc = numpy.random.randint(self.gridSize)\n",
      "            while self.space[xloc,yloc] == 1:\n",
      "                xloc = numpy.random.randint(self.gridSize)\n",
      "                yloc = numpy.random.randint(self.gridSize)\n",
      "            person.locationx=xloc\n",
      "            person.locationy=yloc\n",
      "            self.space[xloc,yloc] = 1 \n",
      "        personLocation = numpy.random.randint(self.numPeople)\n",
      "        self.personList[personLocation].infected = True \n",
      "\n",
      "    def step(self):\n",
      "        for person in self.personList:\n",
      "            if person.infected == True:\n",
      "                # Find neighbors\n",
      "                row = person.locationx\n",
      "                col = person.locationy\n",
      "                neighbor_ps = [ ( x % self.gridSize, y % self.gridSize )\n",
      "                                for x, y in itertools.product(range(row-1, row+1),\n",
      "                                range(col-1, col+1))]\n",
      "                print neighbor_ps\n",
      "                \n",
      "                # Infect neighbors based on whether or not there are condoms in the world\n",
      "                \n",
      "class person():\n",
      "    def __init__(self):\n",
      "        self.infected = False\n",
      "        self.locationx = 0\n",
      "        self.locationy = 0 \n",
      "\n",
      "\n",
      "model = classModel() # create a model instance\n",
      "model.createPeople() # create people for the model\n",
      "model.step() # step through the model\n",
      "\n"
     ],
     "language": "python",
     "metadata": {},
     "outputs": [
      {
       "output_type": "stream",
       "stream": "stdout",
       "text": [
        "[(9, 9), (9, 0), (0, 9), (0, 0)]\n"
       ]
      }
     ],
     "prompt_number": 11
    },
    {
     "cell_type": "code",
     "collapsed": false,
     "input": [],
     "language": "python",
     "metadata": {},
     "outputs": [],
     "prompt_number": 7
    },
    {
     "cell_type": "code",
     "collapsed": false,
     "input": [],
     "language": "python",
     "metadata": {},
     "outputs": [],
     "prompt_number": 7
    },
    {
     "cell_type": "code",
     "collapsed": false,
     "input": [],
     "language": "python",
     "metadata": {},
     "outputs": [],
     "prompt_number": 7
    },
    {
     "cell_type": "code",
     "collapsed": false,
     "input": [],
     "language": "python",
     "metadata": {},
     "outputs": []
    }
   ],
   "metadata": {}
  }
 ]
}