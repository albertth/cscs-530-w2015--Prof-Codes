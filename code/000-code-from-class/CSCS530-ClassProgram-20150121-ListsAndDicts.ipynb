{
 "cells": [
  {
   "cell_type": "markdown",
   "metadata": {},
   "source": [
    "## CSCS530 Winter 2015\n",
    "#### Complex Systems 530 - Computer Modeling of Complex Systems (Winter 2015)\n",
    "\n",
    "  * Course ID: CMPLXSYS 530\n",
    "  * Course Title: Computer Modeling of Complex Systems\n",
    "  * Term: Winter 2015\n",
    "  * Schedule: Wednesdays and Friday, 1:00-2:30PM ET\n",
    "  * Location: 120 West Hall (http://www.lsa.umich.edu/cscs/research/computerlab)\n",
    "  * Teachers: [Mike Bommarito](https://www.linkedin.com/in/bommarito) and [Sarah Cherng](https://www.linkedin.com/pub/sarah-cherng/35/1b7/316)\n",
    "\n",
    "#### [View this repository on NBViewer](http://nbviewer.ipython.org/github/mjbommar/cscs-530-w2015/tree/master/)\n"
   ]
  },
  {
   "cell_type": "code",
   "execution_count": 15,
   "metadata": {
    "collapsed": false
   },
   "outputs": [
    {
     "name": "stdout",
     "output_type": "stream",
     "text": [
      "Item at agentList[2][2] is: Beast\n",
      "Gaston 2 1\n"
     ]
    }
   ],
   "source": [
    "movieList = ['Frozen','Mulan','Beauty and the Beast']\n",
    "agentList = [['Elsa','Anna'],['Mulan','Shang'],['Belle','Gaston','Beast']]\n",
    "# Accessing Elements of the list\n",
    "print \"Item at agentList[2][2] is: \" + agentList[2][2]\n",
    "\n",
    "outerList = 0\n",
    "innerList = 0 \n",
    "findCharacter = \"Gaston\"\n",
    "for x in agentList:\n",
    "    if findCharacter in x:\n",
    "            innerList= x.index(findCharacter)\n",
    "            outerList= agentList.index(x)\n",
    "print agentList[outerList][innerList], outerList, innerList"
   ]
  },
  {
   "cell_type": "code",
   "execution_count": 18,
   "metadata": {
    "collapsed": false
   },
   "outputs": [
    {
     "name": "stdout",
     "output_type": "stream",
     "text": [
      "Frozen\n",
      "Ann Arbor\n",
      "Characters in the movie Frozen are: ['Kristoff', 'Elsa', 'Anna']\n",
      "Characters in the movie Bambi are: ['Bambi']\n",
      "{'Kristoff': 'Frozen', 'Mufasa': 'Lion King', 48104: 'Ann Arbor', 'Belle': 'Beauty and the Beast', 'Chip': 'Beauty and the Beast', 'Elsa': 'Frozen', 'Bambi': 'Bambi', 'Gaston': 'Beauty and the Beast', 'Simba': 'Lion King', 'Anna': 'Frozen'}\n"
     ]
    }
   ],
   "source": [
    "agentDict = {'Elsa':'Frozen', 'Anna':'Frozen', 'Kristoff':'Frozen', 'Belle': 'Beauty and the Beast', \n",
    "             'Gaston':'Beauty and the Beast', 'Chip':'Beauty and the Beast', 48104:'Ann Arbor'}\n",
    "print agentDict['Elsa']\n",
    "print agentDict[48104]\n",
    "\n",
    "movie = \"Frozen\"\n",
    "characters = []\n",
    "for key,value in agentDict.items():\n",
    "    if value == movie:\n",
    "        characters.append(key)\n",
    "print \"Characters in the movie \" + movie + \" are: \" + str(characters)\n",
    "\n",
    "# Adding elements to the dictionary\n",
    "agentDict.update({'Simba':'Lion King', 'Mufasa':'Lion King', 'Bambi':'Bambi'})\n",
    "\n",
    "movie = \"Bambi\"\n",
    "characters = []\n",
    "for key,value in agentDict.items():\n",
    "    if value == movie:\n",
    "        characters.append(key)\n",
    "print \"Characters in the movie \" + movie + \" are: \" + str(characters)\n",
    "\n",
    "#\n",
    "print agentDict"
   ]
  }
 ],
 "metadata": {
  "kernelspec": {
   "display_name": "IPython (Python 2)",
   "name": "python2"
  },
  "language_info": {
   "codemirror_mode": {
    "name": "ipython",
    "version": 2
   },
   "file_extension": ".py",
   "mimetype": "text/x-python",
   "name": "python",
   "nbconvert_exporter": "python",
   "pygments_lexer": "ipython2",
   "version": "2.7.3"
  },
  "signature": "sha256:d77b48a8bd442f93f8a54bea95090eac6149993670c741df0a6fa8bf08006148"
 },
 "nbformat": 4,
 "nbformat_minor": 0
}