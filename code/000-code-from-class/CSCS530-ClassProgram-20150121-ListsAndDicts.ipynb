{
 "metadata": {
  "name": "",
  "signature": "sha256:fd3bb5e4316a3973d628af71375017e0749b04c995615114f487f0da0a405e2c"
 },
 "nbformat": 3,
 "nbformat_minor": 0,
 "worksheets": [
  {
   "cells": [
    {
     "cell_type": "code",
     "collapsed": false,
     "input": [
      "movieList = ['Frozen','Mulan','Beauty and the Beast']\n",
      "agentList = [['Elsa','Anna'],['Mulan','Shang'],['Belle','Gaston','Beast']]\n",
      "# Accessing Elements of the list\n",
      "print \"Item at agentList[2][2] is: \" + agentList[2][2]\n",
      "\n",
      "outerList = 0\n",
      "innerList = 0 \n",
      "findCharacter = \"Gaston\"\n",
      "for x in agentList:\n",
      "    if findCharacter in x:\n",
      "            innerList= x.index(findCharacter)\n",
      "            outerList= agentList.index(x)\n",
      "print agentList[outerList][innerList], outerList, innerList"
     ],
     "language": "python",
     "metadata": {},
     "outputs": [
      {
       "output_type": "stream",
       "stream": "stdout",
       "text": [
        "Item at agentList[2][2] is: Beast\n",
        "Gaston 2 1\n"
       ]
      }
     ],
     "prompt_number": 15
    },
    {
     "cell_type": "code",
     "collapsed": false,
     "input": [
      "agentDict = {'Elsa':'Frozen', 'Anna':'Frozen', 'Kristoff':'Frozen', 'Belle': 'Beauty and the Beast', \n",
      "             'Gaston':'Beauty and the Beast', 'Chip':'Beauty and the Beast', 48104:'Ann Arbor'}\n",
      "print agentDict['Elsa']\n",
      "print agentDict[48104]\n",
      "\n",
      "movie = \"Frozen\"\n",
      "characters = []\n",
      "for key,value in agentDict.items():\n",
      "    if value == movie:\n",
      "        characters.append(key)\n",
      "print \"Characters in the movie \" + movie + \" are: \" + str(characters)\n",
      "\n",
      "# Adding elements to the dictionary\n",
      "agentDict.update({'Simba':'Lion King', 'Mufasa':'Lion King', 'Bambi':'Bambi'})\n",
      "\n",
      "movie = \"Bambi\"\n",
      "characters = []\n",
      "for key,value in agentDict.items():\n",
      "    if value == movie:\n",
      "        characters.append(key)\n",
      "print \"Characters in the movie \" + movie + \" are: \" + str(characters)\n",
      "\n",
      "#\n",
      "print agentDict"
     ],
     "language": "python",
     "metadata": {},
     "outputs": [
      {
       "output_type": "stream",
       "stream": "stdout",
       "text": [
        "Frozen\n",
        "Ann Arbor\n",
        "Characters in the movie Frozen are: ['Kristoff', 'Elsa', 'Anna']\n",
        "Characters in the movie Bambi are: ['Bambi']\n",
        "{'Kristoff': 'Frozen', 'Mufasa': 'Lion King', 48104: 'Ann Arbor', 'Belle': 'Beauty and the Beast', 'Chip': 'Beauty and the Beast', 'Elsa': 'Frozen', 'Bambi': 'Bambi', 'Gaston': 'Beauty and the Beast', 'Simba': 'Lion King', 'Anna': 'Frozen'}\n"
       ]
      }
     ],
     "prompt_number": 18
    }
   ],
   "metadata": {}
  }
 ]
}